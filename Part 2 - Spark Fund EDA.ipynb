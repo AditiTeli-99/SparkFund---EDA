{
 "cells": [
  {
   "cell_type": "markdown",
   "id": "a73859dc",
   "metadata": {},
   "source": [
    "# Part 2 - Data Cleaning"
   ]
  },
  {
   "cell_type": "code",
   "execution_count": 1,
   "id": "553eeba7",
   "metadata": {},
   "outputs": [],
   "source": [
    "# Loading libraries:\n",
    "\n",
    "import numpy as np\n",
    "import pandas as pd\n",
    "import matplotlib.pyplot as plt\n",
    "import seaborn as sns"
   ]
  },
  {
   "cell_type": "code",
   "execution_count": 2,
   "id": "1b145b6f",
   "metadata": {},
   "outputs": [],
   "source": [
    "# Reading the new csv files:\n",
    "\n",
    "rounds = pd.read_csv(\"rounds_clean.csv\",encoding=\"ISO-8859-1\")\n",
    "companies = pd.read_csv(\"companies_clean.csv\",sep=\"\\t\",encoding=\"ISO-8859-1\")"
   ]
  },
  {
   "cell_type": "code",
   "execution_count": 3,
   "id": "16a1a50a",
   "metadata": {},
   "outputs": [
    {
     "name": "stdout",
     "output_type": "stream",
     "text": [
      "66368\n",
      "66368\n"
     ]
    }
   ],
   "source": [
    "# Let us quickly see the unique values once again in the two files\n",
    "\n",
    "print(len(companies[\"permalink\"].unique()))\n",
    "print(len(rounds[\"company_permalink\"].unique()))"
   ]
  },
  {
   "cell_type": "markdown",
   "id": "b23fb900",
   "metadata": {},
   "source": [
    "### Missing Value Treatment"
   ]
  },
  {
   "cell_type": "code",
   "execution_count": 4,
   "id": "e5702ae3",
   "metadata": {},
   "outputs": [
    {
     "data": {
      "text/plain": [
       "permalink            0\n",
       "name                 1\n",
       "homepage_url      5058\n",
       "category_list     3148\n",
       "status               0\n",
       "country_code      6958\n",
       "state_code        8547\n",
       "region            8030\n",
       "city              8028\n",
       "founded_at       15221\n",
       "dtype: int64"
      ]
     },
     "execution_count": 4,
     "metadata": {},
     "output_type": "execute_result"
    }
   ],
   "source": [
    "# Companies dataframe:\n",
    "\n",
    "companies.isnull().sum()"
   ]
  },
  {
   "cell_type": "code",
   "execution_count": 5,
   "id": "c28d5a1e",
   "metadata": {},
   "outputs": [
    {
     "data": {
      "text/plain": [
       "company_permalink              0\n",
       "funding_round_permalink        0\n",
       "funding_round_type             0\n",
       "funding_round_code         83809\n",
       "funded_at                      0\n",
       "raised_amount_usd          19990\n",
       "dtype: int64"
      ]
     },
     "execution_count": 5,
     "metadata": {},
     "output_type": "execute_result"
    }
   ],
   "source": [
    "# Rounds data:\n",
    "\n",
    "rounds.isnull().sum()"
   ]
  },
  {
   "cell_type": "markdown",
   "id": "f22dfec4",
   "metadata": {},
   "source": [
    "Observation: \n",
    "\n",
    "   The permalink and company_permalink are unique ids and there are no missing values in those columns.We can merge both the \n",
    "tables and make one master table."
   ]
  },
  {
   "cell_type": "code",
   "execution_count": 6,
   "id": "b6fc9873",
   "metadata": {},
   "outputs": [
    {
     "data": {
      "text/html": [
       "<div>\n",
       "<style scoped>\n",
       "    .dataframe tbody tr th:only-of-type {\n",
       "        vertical-align: middle;\n",
       "    }\n",
       "\n",
       "    .dataframe tbody tr th {\n",
       "        vertical-align: top;\n",
       "    }\n",
       "\n",
       "    .dataframe thead th {\n",
       "        text-align: right;\n",
       "    }\n",
       "</style>\n",
       "<table border=\"1\" class=\"dataframe\">\n",
       "  <thead>\n",
       "    <tr style=\"text-align: right;\">\n",
       "      <th></th>\n",
       "      <th>permalink</th>\n",
       "      <th>name</th>\n",
       "      <th>homepage_url</th>\n",
       "      <th>category_list</th>\n",
       "      <th>status</th>\n",
       "      <th>country_code</th>\n",
       "      <th>state_code</th>\n",
       "      <th>region</th>\n",
       "      <th>city</th>\n",
       "      <th>founded_at</th>\n",
       "      <th>company_permalink</th>\n",
       "      <th>funding_round_permalink</th>\n",
       "      <th>funding_round_type</th>\n",
       "      <th>funding_round_code</th>\n",
       "      <th>funded_at</th>\n",
       "      <th>raised_amount_usd</th>\n",
       "    </tr>\n",
       "  </thead>\n",
       "  <tbody>\n",
       "    <tr>\n",
       "      <th>0</th>\n",
       "      <td>/organization/-fame</td>\n",
       "      <td>#fame</td>\n",
       "      <td>http://livfame.com</td>\n",
       "      <td>Media</td>\n",
       "      <td>operating</td>\n",
       "      <td>IND</td>\n",
       "      <td>16</td>\n",
       "      <td>Mumbai</td>\n",
       "      <td>Mumbai</td>\n",
       "      <td>NaN</td>\n",
       "      <td>/organization/-fame</td>\n",
       "      <td>/funding-round/9a01d05418af9f794eebff7ace91f638</td>\n",
       "      <td>venture</td>\n",
       "      <td>B</td>\n",
       "      <td>05-01-2015</td>\n",
       "      <td>10000000.0</td>\n",
       "    </tr>\n",
       "    <tr>\n",
       "      <th>1</th>\n",
       "      <td>/organization/-qounter</td>\n",
       "      <td>:Qounter</td>\n",
       "      <td>http://www.qounter.com</td>\n",
       "      <td>Application Platforms|Real Time|Social Network...</td>\n",
       "      <td>operating</td>\n",
       "      <td>USA</td>\n",
       "      <td>DE</td>\n",
       "      <td>DE - Other</td>\n",
       "      <td>Delaware City</td>\n",
       "      <td>04-09-2014</td>\n",
       "      <td>/organization/-qounter</td>\n",
       "      <td>/funding-round/22dacff496eb7acb2b901dec1dfe5633</td>\n",
       "      <td>venture</td>\n",
       "      <td>A</td>\n",
       "      <td>14-10-2014</td>\n",
       "      <td>NaN</td>\n",
       "    </tr>\n",
       "    <tr>\n",
       "      <th>2</th>\n",
       "      <td>/organization/-qounter</td>\n",
       "      <td>:Qounter</td>\n",
       "      <td>http://www.qounter.com</td>\n",
       "      <td>Application Platforms|Real Time|Social Network...</td>\n",
       "      <td>operating</td>\n",
       "      <td>USA</td>\n",
       "      <td>DE</td>\n",
       "      <td>DE - Other</td>\n",
       "      <td>Delaware City</td>\n",
       "      <td>04-09-2014</td>\n",
       "      <td>/organization/-qounter</td>\n",
       "      <td>/funding-round/b44fbb94153f6cdef13083530bb48030</td>\n",
       "      <td>seed</td>\n",
       "      <td>NaN</td>\n",
       "      <td>01-03-2014</td>\n",
       "      <td>700000.0</td>\n",
       "    </tr>\n",
       "    <tr>\n",
       "      <th>3</th>\n",
       "      <td>/organization/-the-one-of-them-inc-</td>\n",
       "      <td>(THE) ONE of THEM,Inc.</td>\n",
       "      <td>http://oneofthem.jp</td>\n",
       "      <td>Apps|Games|Mobile</td>\n",
       "      <td>operating</td>\n",
       "      <td>NaN</td>\n",
       "      <td>NaN</td>\n",
       "      <td>NaN</td>\n",
       "      <td>NaN</td>\n",
       "      <td>NaN</td>\n",
       "      <td>/organization/-the-one-of-them-inc-</td>\n",
       "      <td>/funding-round/650b8f704416801069bb178a1418776b</td>\n",
       "      <td>venture</td>\n",
       "      <td>B</td>\n",
       "      <td>30-01-2014</td>\n",
       "      <td>3406878.0</td>\n",
       "    </tr>\n",
       "    <tr>\n",
       "      <th>4</th>\n",
       "      <td>/organization/0-6-com</td>\n",
       "      <td>0-6.com</td>\n",
       "      <td>http://www.0-6.com</td>\n",
       "      <td>Curated Web</td>\n",
       "      <td>operating</td>\n",
       "      <td>CHN</td>\n",
       "      <td>22</td>\n",
       "      <td>Beijing</td>\n",
       "      <td>Beijing</td>\n",
       "      <td>01-01-2007</td>\n",
       "      <td>/organization/0-6-com</td>\n",
       "      <td>/funding-round/5727accaeaa57461bd22a9bdd945382d</td>\n",
       "      <td>venture</td>\n",
       "      <td>A</td>\n",
       "      <td>19-03-2008</td>\n",
       "      <td>2000000.0</td>\n",
       "    </tr>\n",
       "  </tbody>\n",
       "</table>\n",
       "</div>"
      ],
      "text/plain": [
       "                             permalink                    name  \\\n",
       "0                  /organization/-fame                   #fame   \n",
       "1               /organization/-qounter                :Qounter   \n",
       "2               /organization/-qounter                :Qounter   \n",
       "3  /organization/-the-one-of-them-inc-  (THE) ONE of THEM,Inc.   \n",
       "4                /organization/0-6-com                 0-6.com   \n",
       "\n",
       "             homepage_url                                      category_list  \\\n",
       "0      http://livfame.com                                              Media   \n",
       "1  http://www.qounter.com  Application Platforms|Real Time|Social Network...   \n",
       "2  http://www.qounter.com  Application Platforms|Real Time|Social Network...   \n",
       "3     http://oneofthem.jp                                  Apps|Games|Mobile   \n",
       "4      http://www.0-6.com                                        Curated Web   \n",
       "\n",
       "      status country_code state_code      region           city  founded_at  \\\n",
       "0  operating          IND         16      Mumbai         Mumbai         NaN   \n",
       "1  operating          USA         DE  DE - Other  Delaware City  04-09-2014   \n",
       "2  operating          USA         DE  DE - Other  Delaware City  04-09-2014   \n",
       "3  operating          NaN        NaN         NaN            NaN         NaN   \n",
       "4  operating          CHN         22     Beijing        Beijing  01-01-2007   \n",
       "\n",
       "                     company_permalink  \\\n",
       "0                  /organization/-fame   \n",
       "1               /organization/-qounter   \n",
       "2               /organization/-qounter   \n",
       "3  /organization/-the-one-of-them-inc-   \n",
       "4                /organization/0-6-com   \n",
       "\n",
       "                           funding_round_permalink funding_round_type  \\\n",
       "0  /funding-round/9a01d05418af9f794eebff7ace91f638            venture   \n",
       "1  /funding-round/22dacff496eb7acb2b901dec1dfe5633            venture   \n",
       "2  /funding-round/b44fbb94153f6cdef13083530bb48030               seed   \n",
       "3  /funding-round/650b8f704416801069bb178a1418776b            venture   \n",
       "4  /funding-round/5727accaeaa57461bd22a9bdd945382d            venture   \n",
       "\n",
       "  funding_round_code   funded_at  raised_amount_usd  \n",
       "0                  B  05-01-2015         10000000.0  \n",
       "1                  A  14-10-2014                NaN  \n",
       "2                NaN  01-03-2014           700000.0  \n",
       "3                  B  30-01-2014          3406878.0  \n",
       "4                  A  19-03-2008          2000000.0  "
      ]
     },
     "execution_count": 6,
     "metadata": {},
     "output_type": "execute_result"
    }
   ],
   "source": [
    "# Merging the two dataframes:\n",
    "\n",
    "master = pd.merge(companies,rounds,how=\"inner\",left_on=\"permalink\",right_on=\"company_permalink\")\n",
    "master.head()"
   ]
  },
  {
   "cell_type": "markdown",
   "id": "17092392",
   "metadata": {},
   "source": [
    "Since permalink and company_permalink are the same, let us remove one of the columns from the master dataset"
   ]
  },
  {
   "cell_type": "code",
   "execution_count": 7,
   "id": "7c84447d",
   "metadata": {},
   "outputs": [],
   "source": [
    "master = master.drop([\"company_permalink\"],axis=1)"
   ]
  },
  {
   "cell_type": "code",
   "execution_count": 8,
   "id": "98d0b08e",
   "metadata": {},
   "outputs": [
    {
     "data": {
      "text/plain": [
       "Index(['permalink', 'name', 'homepage_url', 'category_list', 'status',\n",
       "       'country_code', 'state_code', 'region', 'city', 'founded_at',\n",
       "       'funding_round_permalink', 'funding_round_type', 'funding_round_code',\n",
       "       'funded_at', 'raised_amount_usd'],\n",
       "      dtype='object')"
      ]
     },
     "execution_count": 8,
     "metadata": {},
     "output_type": "execute_result"
    }
   ],
   "source": [
    "# Print the column names:\n",
    "\n",
    "master.columns"
   ]
  },
  {
   "cell_type": "code",
   "execution_count": 9,
   "id": "1ef20c17",
   "metadata": {},
   "outputs": [
    {
     "data": {
      "text/plain": [
       "permalink                      0\n",
       "name                           1\n",
       "homepage_url                6134\n",
       "category_list               3408\n",
       "status                         0\n",
       "country_code                8676\n",
       "state_code                 10944\n",
       "region                     10165\n",
       "city                       10162\n",
       "founded_at                 20521\n",
       "funding_round_permalink        0\n",
       "funding_round_type             0\n",
       "funding_round_code         83807\n",
       "funded_at                      0\n",
       "raised_amount_usd          19989\n",
       "dtype: int64"
      ]
     },
     "execution_count": 9,
     "metadata": {},
     "output_type": "execute_result"
    }
   ],
   "source": [
    "# Column wise missing values:\n",
    "\n",
    "master.isnull().sum()"
   ]
  },
  {
   "cell_type": "code",
   "execution_count": 10,
   "id": "ee00afd4",
   "metadata": {},
   "outputs": [
    {
     "data": {
      "text/plain": [
       "permalink                   0.00\n",
       "name                        0.00\n",
       "homepage_url                5.34\n",
       "category_list               2.96\n",
       "status                      0.00\n",
       "country_code                7.55\n",
       "state_code                  9.52\n",
       "region                      8.84\n",
       "city                        8.84\n",
       "founded_at                 17.85\n",
       "funding_round_permalink     0.00\n",
       "funding_round_type          0.00\n",
       "funding_round_code         72.91\n",
       "funded_at                   0.00\n",
       "raised_amount_usd          17.39\n",
       "dtype: float64"
      ]
     },
     "execution_count": 10,
     "metadata": {},
     "output_type": "execute_result"
    }
   ],
   "source": [
    "# Lets look at the fraction of missing values:\n",
    "\n",
    "round((master.isnull().sum()/len(master))*100,2)"
   ]
  },
  {
   "cell_type": "markdown",
   "id": "5c43ead6",
   "metadata": {},
   "source": [
    "Observation:\n",
    "1. There are about 73% of the null values present in the funding_round_code column\n",
    "2. Taking into consideration the business objective,the columns homepage_url,founded_at,state_code,region and city need not be used."
   ]
  },
  {
   "cell_type": "code",
   "execution_count": 11,
   "id": "e3ea7bab",
   "metadata": {},
   "outputs": [],
   "source": [
    "# Dropping the unnecessary columns:\n",
    "\n",
    "master = master.drop([\"funding_round_code\",\"homepage_url\",\"founded_at\",\"state_code\",\"region\",\"city\"],axis=1)"
   ]
  },
  {
   "cell_type": "code",
   "execution_count": 12,
   "id": "88bb70f2",
   "metadata": {},
   "outputs": [
    {
     "data": {
      "text/html": [
       "<div>\n",
       "<style scoped>\n",
       "    .dataframe tbody tr th:only-of-type {\n",
       "        vertical-align: middle;\n",
       "    }\n",
       "\n",
       "    .dataframe tbody tr th {\n",
       "        vertical-align: top;\n",
       "    }\n",
       "\n",
       "    .dataframe thead th {\n",
       "        text-align: right;\n",
       "    }\n",
       "</style>\n",
       "<table border=\"1\" class=\"dataframe\">\n",
       "  <thead>\n",
       "    <tr style=\"text-align: right;\">\n",
       "      <th></th>\n",
       "      <th>permalink</th>\n",
       "      <th>name</th>\n",
       "      <th>category_list</th>\n",
       "      <th>status</th>\n",
       "      <th>country_code</th>\n",
       "      <th>funding_round_permalink</th>\n",
       "      <th>funding_round_type</th>\n",
       "      <th>funded_at</th>\n",
       "      <th>raised_amount_usd</th>\n",
       "    </tr>\n",
       "  </thead>\n",
       "  <tbody>\n",
       "    <tr>\n",
       "      <th>0</th>\n",
       "      <td>/organization/-fame</td>\n",
       "      <td>#fame</td>\n",
       "      <td>Media</td>\n",
       "      <td>operating</td>\n",
       "      <td>IND</td>\n",
       "      <td>/funding-round/9a01d05418af9f794eebff7ace91f638</td>\n",
       "      <td>venture</td>\n",
       "      <td>05-01-2015</td>\n",
       "      <td>10000000.0</td>\n",
       "    </tr>\n",
       "    <tr>\n",
       "      <th>1</th>\n",
       "      <td>/organization/-qounter</td>\n",
       "      <td>:Qounter</td>\n",
       "      <td>Application Platforms|Real Time|Social Network...</td>\n",
       "      <td>operating</td>\n",
       "      <td>USA</td>\n",
       "      <td>/funding-round/22dacff496eb7acb2b901dec1dfe5633</td>\n",
       "      <td>venture</td>\n",
       "      <td>14-10-2014</td>\n",
       "      <td>NaN</td>\n",
       "    </tr>\n",
       "    <tr>\n",
       "      <th>2</th>\n",
       "      <td>/organization/-qounter</td>\n",
       "      <td>:Qounter</td>\n",
       "      <td>Application Platforms|Real Time|Social Network...</td>\n",
       "      <td>operating</td>\n",
       "      <td>USA</td>\n",
       "      <td>/funding-round/b44fbb94153f6cdef13083530bb48030</td>\n",
       "      <td>seed</td>\n",
       "      <td>01-03-2014</td>\n",
       "      <td>700000.0</td>\n",
       "    </tr>\n",
       "    <tr>\n",
       "      <th>3</th>\n",
       "      <td>/organization/-the-one-of-them-inc-</td>\n",
       "      <td>(THE) ONE of THEM,Inc.</td>\n",
       "      <td>Apps|Games|Mobile</td>\n",
       "      <td>operating</td>\n",
       "      <td>NaN</td>\n",
       "      <td>/funding-round/650b8f704416801069bb178a1418776b</td>\n",
       "      <td>venture</td>\n",
       "      <td>30-01-2014</td>\n",
       "      <td>3406878.0</td>\n",
       "    </tr>\n",
       "    <tr>\n",
       "      <th>4</th>\n",
       "      <td>/organization/0-6-com</td>\n",
       "      <td>0-6.com</td>\n",
       "      <td>Curated Web</td>\n",
       "      <td>operating</td>\n",
       "      <td>CHN</td>\n",
       "      <td>/funding-round/5727accaeaa57461bd22a9bdd945382d</td>\n",
       "      <td>venture</td>\n",
       "      <td>19-03-2008</td>\n",
       "      <td>2000000.0</td>\n",
       "    </tr>\n",
       "  </tbody>\n",
       "</table>\n",
       "</div>"
      ],
      "text/plain": [
       "                             permalink                    name  \\\n",
       "0                  /organization/-fame                   #fame   \n",
       "1               /organization/-qounter                :Qounter   \n",
       "2               /organization/-qounter                :Qounter   \n",
       "3  /organization/-the-one-of-them-inc-  (THE) ONE of THEM,Inc.   \n",
       "4                /organization/0-6-com                 0-6.com   \n",
       "\n",
       "                                       category_list     status country_code  \\\n",
       "0                                              Media  operating          IND   \n",
       "1  Application Platforms|Real Time|Social Network...  operating          USA   \n",
       "2  Application Platforms|Real Time|Social Network...  operating          USA   \n",
       "3                                  Apps|Games|Mobile  operating          NaN   \n",
       "4                                        Curated Web  operating          CHN   \n",
       "\n",
       "                           funding_round_permalink funding_round_type  \\\n",
       "0  /funding-round/9a01d05418af9f794eebff7ace91f638            venture   \n",
       "1  /funding-round/22dacff496eb7acb2b901dec1dfe5633            venture   \n",
       "2  /funding-round/b44fbb94153f6cdef13083530bb48030               seed   \n",
       "3  /funding-round/650b8f704416801069bb178a1418776b            venture   \n",
       "4  /funding-round/5727accaeaa57461bd22a9bdd945382d            venture   \n",
       "\n",
       "    funded_at  raised_amount_usd  \n",
       "0  05-01-2015         10000000.0  \n",
       "1  14-10-2014                NaN  \n",
       "2  01-03-2014           700000.0  \n",
       "3  30-01-2014          3406878.0  \n",
       "4  19-03-2008          2000000.0  "
      ]
     },
     "execution_count": 12,
     "metadata": {},
     "output_type": "execute_result"
    }
   ],
   "source": [
    "master.head()"
   ]
  },
  {
   "cell_type": "code",
   "execution_count": 13,
   "id": "91081814",
   "metadata": {},
   "outputs": [
    {
     "data": {
      "text/plain": [
       "(permalink                   0.0\n",
       " name                        0.0\n",
       " category_list               3.0\n",
       " status                      0.0\n",
       " country_code                8.0\n",
       " funding_round_permalink     0.0\n",
       " funding_round_type          0.0\n",
       " funded_at                   0.0\n",
       " raised_amount_usd          17.0\n",
       " dtype: float64,\n",
       " 2)"
      ]
     },
     "execution_count": 13,
     "metadata": {},
     "output_type": "execute_result"
    }
   ],
   "source": [
    "# Checking for the null values :\n",
    "\n",
    "(round((master.isnull().sum()/len(master))*100),2)"
   ]
  },
  {
   "cell_type": "markdown",
   "id": "64f93ef0",
   "metadata": {},
   "source": [
    "Raised amount USD is extremely important for our analysis and that needs to be carefully treated as there are 17% null values \n",
    "in the data. Also, country-code will be used for country-wise analysis and category list will be used to merge the dataframe with the main categories."
   ]
  },
  {
   "cell_type": "code",
   "execution_count": 14,
   "id": "a963141e",
   "metadata": {},
   "outputs": [
    {
     "data": {
      "text/plain": [
       "count    9.495700e+04\n",
       "mean     1.042704e+07\n",
       "std      1.148225e+08\n",
       "min      0.000000e+00\n",
       "25%      3.225000e+05\n",
       "50%      1.680511e+06\n",
       "75%      7.000000e+06\n",
       "max      2.127194e+10\n",
       "Name: raised_amount_usd, dtype: float64"
      ]
     },
     "execution_count": 14,
     "metadata": {},
     "output_type": "execute_result"
    }
   ],
   "source": [
    "# Let us see how we can deal with the missing values in raised_amount_usd\n",
    "\n",
    "master[\"raised_amount_usd\"].describe()"
   ]
  },
  {
   "cell_type": "markdown",
   "id": "35461bbe",
   "metadata": {},
   "source": [
    "Observation:\n",
    "1. The mean and median of the raised amount are not close to each other in values.The mean is USD 10 million whereas the median is only USD 1 million.\n",
    "2. Also, minimum and maximum values are miles apart.\n",
    "\n",
    "Treatment to be made:\n",
    "1. In general, since there is a huge spread in the funding amounts, it will be inappropriate to impute it with the metric such as median or mean.\n",
    "2. Also,since we have quite large number of observations, it is wiser to just drop the rows.\n"
   ]
  },
  {
   "cell_type": "code",
   "execution_count": 15,
   "id": "02aa4252",
   "metadata": {},
   "outputs": [],
   "source": [
    "# Removing NaN values in the raised amount usd:\n",
    "\n",
    "master = master[~np.isnan(master[\"raised_amount_usd\"])]"
   ]
  },
  {
   "cell_type": "code",
   "execution_count": 16,
   "id": "eed465c3",
   "metadata": {},
   "outputs": [
    {
     "data": {
      "text/plain": [
       "permalink                  0.00\n",
       "name                       0.00\n",
       "category_list              1.10\n",
       "status                     0.00\n",
       "country_code               6.16\n",
       "funding_round_permalink    0.00\n",
       "funding_round_type         0.00\n",
       "funded_at                  0.00\n",
       "raised_amount_usd          0.00\n",
       "dtype: float64"
      ]
     },
     "execution_count": 16,
     "metadata": {},
     "output_type": "execute_result"
    }
   ],
   "source": [
    "# Checking for the null values for raised amount USD:\n",
    "\n",
    "round(master.isnull().sum()/(len(master))*100,2)"
   ]
  },
  {
   "cell_type": "code",
   "execution_count": 17,
   "id": "123b8d24",
   "metadata": {},
   "outputs": [],
   "source": [
    "# Now lets look at the column country_code. To see the distribution of the categorical variables,it is best to convert them into\n",
    "#category type.\n",
    "\n",
    "country_codes = master[\"country_code\"].astype(\"category\")"
   ]
  },
  {
   "cell_type": "code",
   "execution_count": 18,
   "id": "fdbf3c57",
   "metadata": {},
   "outputs": [
    {
     "data": {
      "text/plain": [
       "USA    62049\n",
       "GBR     5019\n",
       "CAN     2616\n",
       "CHN     1927\n",
       "IND     1649\n",
       "       ...  \n",
       "SYC        1\n",
       "KNA        1\n",
       "SEN        1\n",
       "LAO        1\n",
       "PRY        1\n",
       "Name: country_code, Length: 134, dtype: int64"
      ]
     },
     "execution_count": 18,
     "metadata": {},
     "output_type": "execute_result"
    }
   ],
   "source": [
    "# Displaying frequencies of each category:\n",
    "\n",
    "country_codes.value_counts()"
   ]
  },
  {
   "cell_type": "markdown",
   "id": "8265573e",
   "metadata": {},
   "source": [
    "By far,the most number of investments have happened in American countries. We can also see the fraction."
   ]
  },
  {
   "cell_type": "code",
   "execution_count": 19,
   "id": "b9ba02df",
   "metadata": {},
   "outputs": [
    {
     "data": {
      "text/plain": [
       "USA    65.344314\n",
       "GBR     5.285550\n",
       "CAN     2.754931\n",
       "CHN     2.029340\n",
       "IND     1.736576\n",
       "         ...    \n",
       "HND     0.001053\n",
       "GGY     0.001053\n",
       "TGO     0.001053\n",
       "MNE     0.001053\n",
       "SEN     0.001053\n",
       "Name: country_code, Length: 134, dtype: float64"
      ]
     },
     "execution_count": 19,
     "metadata": {},
     "output_type": "execute_result"
    }
   ],
   "source": [
    "# Viewing the fraction of counts of country codes:\n",
    "\n",
    "(master[\"country_code\"].value_counts()/len(master)*100)"
   ]
  },
  {
   "cell_type": "markdown",
   "id": "a9e8a30f",
   "metadata": {},
   "source": [
    "Now we can either delete the rows having country codes missing (about 6%), or we can impute them by USA. Since the number of missing values is quite small and there is decent amount of data, it may be better to just remove the rows. "
   ]
  },
  {
   "cell_type": "code",
   "execution_count": 20,
   "id": "caaf5622",
   "metadata": {},
   "outputs": [],
   "source": [
    "# Let us remove the rows \n",
    "\n",
    "master = master[~pd.isnull(master[\"country_code\"])]"
   ]
  },
  {
   "cell_type": "code",
   "execution_count": 21,
   "id": "c2766aa1",
   "metadata": {},
   "outputs": [
    {
     "data": {
      "text/plain": [
       "permalink                  0.000000\n",
       "name                       0.001122\n",
       "category_list              0.649781\n",
       "status                     0.000000\n",
       "country_code               0.000000\n",
       "funding_round_permalink    0.000000\n",
       "funding_round_type         0.000000\n",
       "funded_at                  0.000000\n",
       "raised_amount_usd          0.000000\n",
       "dtype: float64"
      ]
     },
     "execution_count": 21,
     "metadata": {},
     "output_type": "execute_result"
    }
   ],
   "source": [
    "# Check for the null values :\n",
    "\n",
    "(master.isnull().sum()/len(master))*100"
   ]
  },
  {
   "cell_type": "markdown",
   "id": "b4912fd6",
   "metadata": {},
   "source": [
    "Note that the fraction of missing values in the remaining dataframe has also reduced now - only 0.65% in category_list. Lets \n",
    "remove all those as well.\n",
    "\n",
    "Note : Removing the missing values is completely optional. There is nothing wrong with that. But since we will use that column \n",
    "for merging with the \"main_categories\", removing the missing values will be quite convenient and again we have enough data."
   ]
  },
  {
   "cell_type": "code",
   "execution_count": 22,
   "id": "742654c7",
   "metadata": {},
   "outputs": [],
   "source": [
    "# Removing rows with missing category_list values:\n",
    "\n",
    "master = master[~pd.isnull(master[\"category_list\"])]"
   ]
  },
  {
   "cell_type": "code",
   "execution_count": 24,
   "id": "75073786",
   "metadata": {},
   "outputs": [
    {
     "data": {
      "text/plain": [
       "(permalink                  0.0\n",
       " name                       0.0\n",
       " category_list              0.0\n",
       " status                     0.0\n",
       " country_code               0.0\n",
       " funding_round_permalink    0.0\n",
       " funding_round_type         0.0\n",
       " funded_at                  0.0\n",
       " raised_amount_usd          0.0\n",
       " dtype: float64,\n",
       " 2)"
      ]
     },
     "execution_count": 24,
     "metadata": {},
     "output_type": "execute_result"
    }
   ],
   "source": [
    "# Checking for the null values:\n",
    "\n",
    "(round(master.isnull().sum()/len(master))*100,2)"
   ]
  },
  {
   "cell_type": "markdown",
   "id": "2f4ad1ac",
   "metadata": {},
   "source": [
    "There are no null values in the dataset,so this is the cleaned dataset"
   ]
  },
  {
   "cell_type": "code",
   "execution_count": 25,
   "id": "fe5d18f4",
   "metadata": {},
   "outputs": [],
   "source": [
    "# Let us save this cleaned data:\n",
    "\n",
    "master.to_csv(\"master_df.csv\",sep=\",\",index=False)"
   ]
  },
  {
   "cell_type": "code",
   "execution_count": 27,
   "id": "fc85e04a",
   "metadata": {},
   "outputs": [
    {
     "name": "stdout",
     "output_type": "stream",
     "text": [
      "<class 'pandas.core.frame.DataFrame'>\n",
      "Int64Index: 88528 entries, 0 to 114944\n",
      "Data columns (total 9 columns):\n",
      " #   Column                   Non-Null Count  Dtype  \n",
      "---  ------                   --------------  -----  \n",
      " 0   permalink                88528 non-null  object \n",
      " 1   name                     88527 non-null  object \n",
      " 2   category_list            88528 non-null  object \n",
      " 3   status                   88528 non-null  object \n",
      " 4   country_code             88528 non-null  object \n",
      " 5   funding_round_permalink  88528 non-null  object \n",
      " 6   funding_round_type       88528 non-null  object \n",
      " 7   funded_at                88528 non-null  object \n",
      " 8   raised_amount_usd        88528 non-null  float64\n",
      "dtypes: float64(1), object(8)\n",
      "memory usage: 6.8+ MB\n"
     ]
    }
   ],
   "source": [
    "# Using master_df dataset for further analysis:\n",
    "\n",
    "# Information of the data:\n",
    "\n",
    "master.info()"
   ]
  },
  {
   "cell_type": "code",
   "execution_count": 28,
   "id": "1698917e",
   "metadata": {},
   "outputs": [
    {
     "data": {
      "text/plain": [
       "77.01502405414575"
      ]
     },
     "execution_count": 28,
     "metadata": {},
     "output_type": "execute_result"
    }
   ],
   "source": [
    "# Checking data retained after treating for the missing values:\n",
    "\n",
    "100*(len(master)/len(rounds))"
   ]
  },
  {
   "cell_type": "markdown",
   "id": "e4f3e477",
   "metadata": {},
   "source": [
    "77% of the data is retained after handling the missing values."
   ]
  }
 ],
 "metadata": {
  "kernelspec": {
   "display_name": "Python 3 (ipykernel)",
   "language": "python",
   "name": "python3"
  },
  "language_info": {
   "codemirror_mode": {
    "name": "ipython",
    "version": 3
   },
   "file_extension": ".py",
   "mimetype": "text/x-python",
   "name": "python",
   "nbconvert_exporter": "python",
   "pygments_lexer": "ipython3",
   "version": "3.9.12"
  }
 },
 "nbformat": 4,
 "nbformat_minor": 5
}
